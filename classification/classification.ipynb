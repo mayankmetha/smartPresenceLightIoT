{
 "cells": [
  {
   "cell_type": "code",
   "execution_count": null,
   "metadata": {},
   "outputs": [],
   "source": [
    "def get_output_layers(net):    \n",
    "    layer_names = net.getLayerNames()    \n",
    "    output_layers = [layer_names[i[0] - 1] for i in net.getUnconnectedOutLayers()]\n",
    "    return output_layers\n",
    "\n",
    "# function to draw bounding box on the detected object with class name\n",
    "def draw_bounding_box(img, class_id, confidence, x, y, x_plus_w, y_plus_h, classes=[]):\n",
    "    label = ''\n",
    "    if len(classes) > 0:\n",
    "        label = str(classes[class_id])\n",
    "    \n",
    "    cv2.rectangle(img, (x,y), (x_plus_w,y_plus_h), 1, 2)\n",
    "    cv2.putText(img, label, (x-10,y-10), cv2.FONT_HERSHEY_SIMPLEX, 1, 0, 4)"
   ]
  },
  {
   "cell_type": "code",
   "execution_count": null,
   "metadata": {},
   "outputs": [],
   "source": [
    "def loadModel(conf, weights):\n",
    "    return dnn.readNet(conf, weights)"
   ]
  },
  {
   "cell_type": "code",
   "execution_count": null,
   "metadata": {},
   "outputs": [],
   "source": [
    "def loadClassNames(filename):\n",
    "    classes = []\n",
    "    with open(filename) as f:\n",
    "        classes = list(map(lambda x: x.strip(), f.readlines()))\n",
    "        f.close()\n",
    "    return classes"
   ]
  },
  {
   "cell_type": "code",
   "execution_count": null,
   "metadata": {},
   "outputs": [],
   "source": [
    "def readImage(filename='', ip=''):\n",
    "    if len(filename) > 0:\n",
    "        image = cv2.imread(filename)\n",
    "    else:\n",
    "        cap = cv2.VideoCapture('http://' + ip + '/video')\n",
    "        ret, image = cap.read()\n",
    "        cap.release()\n",
    "        cv2.destroyAllWindows()\n",
    "        if not ret:\n",
    "            print('Error reading frame: {}'.format(ret))\n",
    "            image = None\n",
    "    return image"
   ]
  },
  {
   "cell_type": "code",
   "execution_count": null,
   "metadata": {},
   "outputs": [],
   "source": [
    "def classifyImage(net, image):\n",
    "    blob = dnn.blobFromImage(image, 1/255, (416,416), (0,0,0), True, crop=False)\n",
    "    net.setInput(blob)\n",
    "    return net.forward(get_output_layers(net))"
   ]
  },
  {
   "cell_type": "code",
   "execution_count": null,
   "metadata": {},
   "outputs": [],
   "source": [
    "def getBoundingBoxes(outs, width, height, conf_threshold = 0.8, nms_threshold=0.45):\n",
    "    class_ids = []\n",
    "    confidences = []\n",
    "    boxes = []\n",
    "\n",
    "    for out in outs:\n",
    "        for detection in out:\n",
    "            scores = detection[5:]\n",
    "            class_id = np.argmax(scores)\n",
    "            confidence = scores[class_id]\n",
    "            if confidence > conf_threshold:\n",
    "                center_x = int(detection[0] * width)\n",
    "                center_y = int(detection[1] * height)\n",
    "                w = int(detection[2] * width)\n",
    "                h = int(detection[3] * height)\n",
    "                x = (center_x - w/2.0)\n",
    "                y = (center_y - h/2.0)\n",
    "                class_ids.append(class_id)\n",
    "                confidences.append(float(confidence))\n",
    "                boxes.append([x, y, w, h])\n",
    "    return class_ids, confidences, boxes"
   ]
  },
  {
   "cell_type": "code",
   "execution_count": null,
   "metadata": {},
   "outputs": [],
   "source": [
    "def drawBoundingBoxesToImage(test, boxes, confidences, classes, conf_threshold, nms_threshold):\n",
    "    indices = cv2.dnn.NMSBoxes(boxes, confidences, conf_threshold, nms_threshold)\n",
    "    bboxes = []\n",
    "\n",
    "    for i in indices:\n",
    "        i = i[0]\n",
    "        box = boxes[i]\n",
    "        x = round(box[0])\n",
    "        y = round(box[1])\n",
    "        w = box[2]\n",
    "        h = box[3]\n",
    "\n",
    "        print(i)\n",
    "        draw_bounding_box(test, class_ids[i], confidences[i], round(x), round(y), round(x+w), round(y+h), classes)\n",
    "        bboxes.append(image[y:y+h, x:w+x])\n",
    "    plt.imshow(test)"
   ]
  },
  {
   "cell_type": "code",
   "execution_count": null,
   "metadata": {},
   "outputs": [],
   "source": [
    "def countPeople(net, image, classes, person_class):\n",
    "    width = image.shape[1]\n",
    "    height = image.shape[0]\n",
    "    conf_threshold = 0.5\n",
    "    nms_threshold=0.45\n",
    "    outs = classifyImage(net, image)\n",
    "    class_ids,confidences,boxes = getBoundingBoxes(outs, width, height, conf_threshold=conf_threshold, nms_threshold=nms_threshold)\n",
    "    drawBoundingBoxesToImage(image, boxes, confidences, classes, conf_threshold=conf_threshold, nms_threshold=nms_threshold)\n",
    "    \n",
    "    return len(list(filter(lambda x: x == person_class, class_ids)))"
   ]
  },
  {
   "cell_type": "code",
   "execution_count": null,
   "metadata": {},
   "outputs": [],
   "source": [
    "import cv2\n",
    "import cv2.dnn as dnn\n",
    "import numpy as np\n",
    "import matplotlib.pyplot as plt"
   ]
  },
  {
   "cell_type": "code",
   "execution_count": null,
   "metadata": {},
   "outputs": [],
   "source": [
    "net = loadModel('cfg/yolov3.cfg', 'yolov3.weights')\n",
    "classes = loadClassNames('data/coco.names')\n",
    "image = readImage(ip='192.168.1.2:8080')\n",
    "\n",
    "numPersons = countPeople(net, image, classes, 0)\n",
    "print('Found {} people in the image!'.format(numPersons))"
   ]
  }
 ],
 "metadata": {
  "kernelspec": {
   "display_name": "Python 3",
   "language": "python",
   "name": "python3"
  },
  "language_info": {
   "codemirror_mode": {
    "name": "ipython",
    "version": 3
   },
   "file_extension": ".py",
   "mimetype": "text/x-python",
   "name": "python",
   "nbconvert_exporter": "python",
   "pygments_lexer": "ipython3",
   "version": "3.6.8"
  }
 },
 "nbformat": 4,
 "nbformat_minor": 2
}
